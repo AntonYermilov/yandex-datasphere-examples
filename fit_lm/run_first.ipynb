{
 "cells": [
  {
   "cell_type": "code",
   "execution_count": null,
   "metadata": {
    "cellId": "6ku0g2tjzjmmgerqe1ymen"
   },
   "outputs": [],
   "source": [
    "%pip install pymorphy2"
   ]
  }
 ],
 "metadata": {
  "kernelspec": {
   "display_name": "Yandex DataSphere Kernel",
   "language": "python",
   "name": "python3"
  },
  "language_info": {
   "codemirror_mode": {
    "name": "ipython",
    "version": 3
   },
   "file_extension": ".py",
   "mimetype": "text/x-python",
   "name": "python",
   "nbconvert_exporter": "python",
   "pygments_lexer": "ipython3",
   "version": "3.7.7"
  },
  "notebookId": "760a37b4-cb63-44e2-b6f9-6e68293485ee"
 },
 "nbformat": 4,
 "nbformat_minor": 4
}
